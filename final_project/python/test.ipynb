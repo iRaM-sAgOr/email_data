{
 "cells": [
  {
   "cell_type": "code",
   "execution_count": null,
   "metadata": {},
   "outputs": [],
   "source": [
    "import pymysql\n",
    "connection = pymysql.connect(host=\"localhost\", user=\"root\", passwd=\"\", database=\"python_test1\")\n",
    "cursor = connection.cursor()\n",
    "def inserting_verdict(num,From,To,body):\n",
    "    insert1=\"INSERT INTO result_data(`mail_id`,`Ffrom`,`Tto`,`body`,`verdict`) VALUES('\"+str(num)+\"','\"+str(From)+\"','\"+str(To)+\"','\"+str(body)+\"','infected');\"\n",
    "    cursor.execute(insert1)\n",
    "    connection.commit()\n",
    "    #print(num,From,To,body)\n",
    "def visit_check(num):\n",
    "    updateSql = \"UPDATE  email_data SET `Ccheck`= '1'  WHERE `mail_id` = '\"+str(num)+\"' ;\"\n",
    "    cursor.execute(updateSql  )\n",
    "    connection.commit()\n",
    "stop_word = ['now','ourselves', 'hers', 'between', 'yourself', 'but', 'again', 'there', 'about', 'once', 'during', 'out', 'very', 'having', 'with', 'they', 'own', 'an', 'be', 'some', 'for', 'do', 'its', 'yours', 'such', 'into', 'of', 'most', 'itself', 'other', 'off', 'is', 's', 'am', 'or', 'who', 'as', 'from', 'him', 'each', 'the', 'themselves', 'until', 'below', 'are', 'we', 'these', 'your', 'his', 'through', 'don', 'nor', 'me', 'were', 'her', 'more', 'himself', 'this', 'down', 'should', 'our', 'their', 'while', 'above', 'both', 'up', 'to', 'ours', 'had', 'she', 'all', 'no', 'when', 'at', 'any', 'before', 'them', 'same', 'and', 'been', 'have', 'in', 'will', 'on', 'does', 'yourselves', 'then', 'that', 'because', 'what', 'over', 'why', 'so', 'can', 'did', 'not', 'now', 'under', 'he', 'you', 'herself', 'has', 'just', 'where', 'too', 'only', 'myself', 'which', 'those', 'i', 'after', 'few', 'whom', 't', 'being', 'if', 'theirs', 'my', 'against', 'a', 'by', 'doing', 'it', 'how', 'further', 'was', 'here', 'than']\n",
    "from sklearn.feature_extraction.text import TfidfVectorizer\n",
    "tvec = TfidfVectorizer()\n",
    "lr = LogisticRegression()\n",
    "tvec.set_params(stop_words=stop_word, max_features=80000, ngram_range=(1,2))\n",
    "pipeline = Pipeline([\n",
    "            ('vectorizer', tvec),\n",
    "            ('classifier', lr)\n",
    "        ])\n",
    "sentiment_fit = pipeline.fit(x_train, y_train)\n",
    "while 1:\n",
    "    retrive=\"SELECT * FROM email_data;\"\n",
    "    cursor.execute(retrive)\n",
    "    rows = cursor.fetchall()\n",
    "    for row in rows:\n",
    "        if row[4]==0:\n",
    "            data_body=row[3]\n",
    "            print(data_body)\n",
    "            y_pred = sentiment_fit.predict([data_body])\n",
    "            if y_pred[0]==1:\n",
    "                print(\"its infected\")\n",
    "                inserting_verdict(int(row[0]),str(row[1]),str(row[2]),str(row[3]))\n",
    "            else:\n",
    "                print(\"its not infected\")\n",
    "        visit_check(row[0])       "
   ]
  }
 ],
 "metadata": {
  "kernelspec": {
   "display_name": "Python 3",
   "language": "python",
   "name": "python3"
  },
  "language_info": {
   "codemirror_mode": {
    "name": "ipython",
    "version": 3
   },
   "file_extension": ".py",
   "mimetype": "text/x-python",
   "name": "python",
   "nbconvert_exporter": "python",
   "pygments_lexer": "ipython3",
   "version": "3.6.4"
  }
 },
 "nbformat": 4,
 "nbformat_minor": 2
}
